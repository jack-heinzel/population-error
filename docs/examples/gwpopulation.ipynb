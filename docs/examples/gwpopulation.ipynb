{
 "cells": [
  {
   "cell_type": "markdown",
   "id": "15a3d4cf",
   "metadata": {},
   "source": [
    "### Imports"
   ]
  },
  {
   "cell_type": "code",
   "execution_count": 2,
   "id": "c3d0c6d5",
   "metadata": {},
   "outputs": [],
   "source": [
    "import gwpopulation\n",
    "gwpopulation.set_backend('jax')\n",
    "import pickle as pkl\n",
    "from bilby.core.result import read_in_result\n",
    "\n",
    "# load in population-error package\n",
    "from population_error import error_statistics"
   ]
  },
  {
   "cell_type": "markdown",
   "id": "5ee09302",
   "metadata": {},
   "source": [
    "### Load in injection set and posterior set"
   ]
  },
  {
   "cell_type": "code",
   "execution_count": 3,
   "id": "8bfac1c7",
   "metadata": {},
   "outputs": [],
   "source": [
    "# dictionary of injections, containing arrays of shape (Ninj). Must contain 'prior' key and should also contain 'total_generated'\n",
    "with open('/home/jack.heinzel/public_html/voronoi_population/gw_nonparameteric/GWTC3/data/injection_set.pkl', 'rb') as ff:\n",
    "    injections = pkl.load(ff)\n",
    "    \n",
    "# dictionary of gw samples, containing arrays of shape (Nobs, NPE). Must contain 'prior' key\n",
    "with open('/home/jack.heinzel/public_html/voronoi_population/gw_nonparameteric/GWTC3/data/posteriors.pkl', 'rb') as ff:\n",
    "    event_posteriors = pkl.load(ff)"
   ]
  },
  {
   "cell_type": "markdown",
   "id": "1b7d0391",
   "metadata": {},
   "source": [
    "### Create gwpopulation model"
   ]
  },
  {
   "cell_type": "code",
   "execution_count": 4,
   "id": "1f40f685",
   "metadata": {},
   "outputs": [],
   "source": [
    "model_list = [\n",
    "    gwpopulation.models.mass.SinglePeakSmoothedMassDistribution(), \n",
    "    gwpopulation.models.spin.iid_spin,\n",
    "    gwpopulation.models.redshift.PowerLawRedshift()\n",
    "    ]\n",
    "\n",
    "model_function = gwpopulation.experimental.jax.NonCachingModel(model_list)"
   ]
  },
  {
   "cell_type": "markdown",
   "id": "93d872c2",
   "metadata": {},
   "source": [
    "### Load in hyperposterior"
   ]
  },
  {
   "cell_type": "code",
   "execution_count": 5,
   "id": "3e84fb32",
   "metadata": {},
   "outputs": [],
   "source": [
    "gwtc3_result = read_in_result('/home/jack.heinzel/public_html/GWTC-3-population/GWTC-3-population-data/analyses/PowerLawPeak/o1o2o3_mass_c_iid_mag_iid_tilt_powerlaw_redshift_result.json')\n",
    "hyperposterior = gwtc3_result.posterior"
   ]
  },
  {
   "cell_type": "markdown",
   "id": "23124402",
   "metadata": {},
   "source": [
    "### Calculate error statistics"
   ]
  },
  {
   "cell_type": "code",
   "execution_count": 6,
   "id": "2d47e4f8",
   "metadata": {},
   "outputs": [
    {
     "name": "stdout",
     "output_type": "stream",
     "text": [
      "Nobs not provided, assuming Nobs = 69\n"
     ]
    },
    {
     "name": "stderr",
     "output_type": "stream",
     "text": [
      "Computing single event covariance weights integrated over hyperposterior samples: 100%|██████████| 11469/11469 [00:46<00:00, 244.12it/s]\n",
      "Computing selection covariance weights integrated over hyperposterior samples: 100%|██████████| 11469/11469 [00:31<00:00, 368.56it/s]\n",
      "For each posterior sample, average single event covariance with another posterior sample: 100%|██████████| 11469/11469 [00:32<00:00, 353.30it/s]\n",
      "For each posterior sample, average selection covariance with another posterior sample: 100%|██████████| 11469/11469 [00:31<00:00, 366.32it/s]\n"
     ]
    },
    {
     "name": "stdout",
     "output_type": "stream",
     "text": [
      "\n",
      "Your inference loses approximately 0.263 bits of information to Monte Carlo approximations.\n",
      "Of the total information loss\n",
      " * 0.255 bits is from uncertainty in the posterior. Of this\n",
      "    * 11.0% is from the single-event Monte Carlo integration\n",
      "    * 89.0% is from the selection Monte Carlo integration\n",
      " * 0.00827 bits is from bias in the posterior. Of the total bias\n",
      "    * 3.0% is from the single-event Monte Carlo integration\n",
      "    * 101.3% is from the selection Monte Carlo integration\n",
      "    * -4.3% is from correlations in the uncertainty of the single-event and selection MC integrals\n"
     ]
    }
   ],
   "source": [
    "statistics = error_statistics(\n",
    "    model_function, \n",
    "    injections, \n",
    "    event_posteriors, \n",
    "    hyperposterior, \n",
    "    include_likelihood_correction=True, \n",
    "    conversion_function=gwpopulation.conversions.convert_to_beta_parameters\n",
    "    )"
   ]
  }
 ],
 "metadata": {
  "kernelspec": {
   "display_name": "gwjax311",
   "language": "python",
   "name": "python3"
  },
  "language_info": {
   "codemirror_mode": {
    "name": "ipython",
    "version": 3
   },
   "file_extension": ".py",
   "mimetype": "text/x-python",
   "name": "python",
   "nbconvert_exporter": "python",
   "pygments_lexer": "ipython3",
   "version": "3.11.6"
  }
 },
 "nbformat": 4,
 "nbformat_minor": 5
}
