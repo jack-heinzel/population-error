{
 "cells": [
  {
   "cell_type": "markdown",
   "id": "843a7445",
   "metadata": {},
   "source": [
    "### Calculate error statistics from population model (more memory efficient)"
   ]
  },
  {
   "cell_type": "markdown",
   "id": "15a3d4cf",
   "metadata": {},
   "source": [
    "We require bilby to load the population hyperposterior samples and gwpopulation to create the population model"
   ]
  },
  {
   "cell_type": "code",
   "execution_count": null,
   "id": "c3d0c6d5",
   "metadata": {},
   "outputs": [],
   "source": [
    "import gwpopulation\n",
    "gwpopulation.set_backend('jax')\n",
    "import h5py\n",
    "from bilby.core.result import read_in_result\n",
    "\n",
    "# load in population-error package\n",
    "from population_error import error_statistics"
   ]
  },
  {
   "cell_type": "markdown",
   "id": "5ee09302",
   "metadata": {},
   "source": [
    "Load in injection set and posterior set"
   ]
  },
  {
   "cell_type": "code",
   "execution_count": 2,
   "id": "8bfac1c7",
   "metadata": {},
   "outputs": [],
   "source": [
    "# dictionary of injections, containing arrays of shape (Ninj). Must contain 'prior' key and should also contain 'total_generated'\n",
    "# adapted from publicly available GW injections at https://zenodo.org/records/7890398\n",
    "with h5py.File('data/GWTC3_injections.h5') as f:\n",
    "    injections = {k: f[k][()] for k in f.keys()}\n",
    "    \n",
    "# dictionary of gw samples, containing arrays of shape (Nobs, NPE). Must contain 'prior' key\n",
    "# adapted from publicly available GW posteriors at https://zenodo.org/records/6513631 and https://zenodo.org/records/8177023\n",
    "with h5py.File('data/GWTC3_posteriors.h5') as f:\n",
    "    event_posteriors = {k: f[k][()] for k in f.keys()}"
   ]
  },
  {
   "cell_type": "markdown",
   "id": "1b7d0391",
   "metadata": {},
   "source": [
    "Create gwpopulation model"
   ]
  },
  {
   "cell_type": "code",
   "execution_count": 3,
   "id": "1f40f685",
   "metadata": {},
   "outputs": [],
   "source": [
    "model_list = [\n",
    "    gwpopulation.models.mass.SinglePeakSmoothedMassDistribution(), \n",
    "    gwpopulation.models.spin.iid_spin,\n",
    "    gwpopulation.models.redshift.PowerLawRedshift()\n",
    "    ]\n",
    "\n",
    "model_function = gwpopulation.experimental.jax.NonCachingModel(model_list)"
   ]
  },
  {
   "cell_type": "markdown",
   "id": "93d872c2",
   "metadata": {},
   "source": [
    "Load in hyperposterior samples"
   ]
  },
  {
   "cell_type": "code",
   "execution_count": 4,
   "id": "3e84fb32",
   "metadata": {},
   "outputs": [],
   "source": [
    "# copied from GWTC-3 data release at https://zenodo.org/records/11254021 (analyses_PowerLawPeak.tar.gz)\n",
    "gwtc3_result = read_in_result('data/o1o2o3_mass_c_iid_mag_iid_tilt_powerlaw_redshift_result.json')\n",
    "hyperposterior = gwtc3_result.posterior"
   ]
  },
  {
   "cell_type": "markdown",
   "id": "23124402",
   "metadata": {},
   "source": [
    "Calculate error statistics"
   ]
  },
  {
   "cell_type": "code",
   "execution_count": 5,
   "id": "2d47e4f8",
   "metadata": {},
   "outputs": [
    {
     "name": "stdout",
     "output_type": "stream",
     "text": [
      "Nobs not provided, assuming Nobs = 69\n"
     ]
    },
    {
     "name": "stderr",
     "output_type": "stream",
     "text": [
      "Computing single event covariance weights integrated over hyperposterior samples: 100%|██████████| 11469/11469 [00:22<00:00, 504.68it/s]\n",
      "Computing selection covariance weights integrated over hyperposterior samples: 100%|██████████| 11469/11469 [00:11<00:00, 1040.01it/s]\n",
      "For each posterior sample, average single event covariance with another posterior sample: 100%|██████████| 11469/11469 [00:11<00:00, 1004.06it/s]\n",
      "For each posterior sample, average selection covariance with another posterior sample: 100%|██████████| 11469/11469 [00:11<00:00, 1041.89it/s]\n"
     ]
    },
    {
     "name": "stdout",
     "output_type": "stream",
     "text": [
      "\n",
      "Your inference loses approximately 0.263 bits of information to Monte Carlo approximations.\n",
      "Of the total information loss\n",
      " * 0.255 bits is from uncertainty in the posterior. Of this\n",
      "    * 11.0% is from the single-event Monte Carlo integration\n",
      "    * 89.0% is from the selection Monte Carlo integration\n",
      " * 0.00827 bits is from bias in the posterior. Of the total bias\n",
      "    * 3.0% is from the single-event Monte Carlo integration\n",
      "    * 101.3% is from the selection Monte Carlo integration\n",
      "    * -4.3% is from correlations in the uncertainty of the single-event and selection MC integrals\n"
     ]
    }
   ],
   "source": [
    "statistics = error_statistics(\n",
    "    model_function, \n",
    "    injections, \n",
    "    event_posteriors, \n",
    "    hyperposterior, \n",
    "    include_likelihood_correction=True, \n",
    "    conversion_function=gwpopulation.conversions.convert_to_beta_parameters\n",
    "    )"
   ]
  },
  {
   "cell_type": "markdown",
   "id": "6e6e9e38",
   "metadata": {},
   "source": [
    "Note the uncertainty dominates the total information loss, which is generically true. There is a small additional information loss in the posterior due to bias in the estimate of the likelihood and posterior probability density. In GWTC-3, the systematic uncertainty was mostly due to the selection function estimate.\n",
    "\n",
    "Note the contribution to the bias from the correlations in the uncertainty of the single-event and selection MC integrals is negative. This is not a bug! Since the bias the a directional quantity, the overall information loss will be positive, but the contributions to the total bias can be in different directions, meaning they will have a relative minus sign."
   ]
  },
  {
   "cell_type": "code",
   "execution_count": null,
   "id": "f6046291",
   "metadata": {},
   "outputs": [],
   "source": []
  }
 ],
 "metadata": {
  "kernelspec": {
   "display_name": "gwjax311",
   "language": "python",
   "name": "python3"
  },
  "language_info": {
   "codemirror_mode": {
    "name": "ipython",
    "version": 3
   },
   "file_extension": ".py",
   "mimetype": "text/x-python",
   "name": "python",
   "nbconvert_exporter": "python",
   "pygments_lexer": "ipython3",
   "version": "3.11.6"
  }
 },
 "nbformat": 4,
 "nbformat_minor": 5
}
